{
 "cells": [
  {
   "cell_type": "code",
   "execution_count": 2,
   "id": "95107f4a-03c9-4a4d-9a5b-93414cf56b78",
   "metadata": {
    "tags": []
   },
   "outputs": [
    {
     "name": "stdout",
     "output_type": "stream",
     "text": [
      "Requirement already satisfied: openai in /home/py_sama/flask_environment/lib/python3.11/site-packages (1.3.8)\n",
      "Requirement already satisfied: anyio<5,>=3.5.0 in /home/py_sama/flask_environment/lib/python3.11/site-packages (from openai) (4.1.0)\n",
      "Requirement already satisfied: distro<2,>=1.7.0 in /home/py_sama/flask_environment/lib/python3.11/site-packages (from openai) (1.8.0)\n",
      "Requirement already satisfied: httpx<1,>=0.23.0 in /home/py_sama/flask_environment/lib/python3.11/site-packages (from openai) (0.25.2)\n",
      "Requirement already satisfied: pydantic<3,>=1.9.0 in /home/py_sama/flask_environment/lib/python3.11/site-packages (from openai) (2.5.2)\n",
      "Requirement already satisfied: sniffio in /home/py_sama/flask_environment/lib/python3.11/site-packages (from openai) (1.3.0)\n",
      "Requirement already satisfied: tqdm>4 in /home/py_sama/flask_environment/lib/python3.11/site-packages (from openai) (4.66.1)\n",
      "Requirement already satisfied: typing-extensions<5,>=4.5 in /home/py_sama/flask_environment/lib/python3.11/site-packages (from openai) (4.8.0)\n",
      "Requirement already satisfied: idna>=2.8 in /home/py_sama/flask_environment/lib/python3.11/site-packages (from anyio<5,>=3.5.0->openai) (3.6)\n",
      "Requirement already satisfied: certifi in /home/py_sama/flask_environment/lib/python3.11/site-packages (from httpx<1,>=0.23.0->openai) (2023.11.17)\n",
      "Requirement already satisfied: httpcore==1.* in /home/py_sama/flask_environment/lib/python3.11/site-packages (from httpx<1,>=0.23.0->openai) (1.0.2)\n",
      "Requirement already satisfied: h11<0.15,>=0.13 in /home/py_sama/flask_environment/lib/python3.11/site-packages (from httpcore==1.*->httpx<1,>=0.23.0->openai) (0.14.0)\n",
      "Requirement already satisfied: annotated-types>=0.4.0 in /home/py_sama/flask_environment/lib/python3.11/site-packages (from pydantic<3,>=1.9.0->openai) (0.6.0)\n",
      "Requirement already satisfied: pydantic-core==2.14.5 in /home/py_sama/flask_environment/lib/python3.11/site-packages (from pydantic<3,>=1.9.0->openai) (2.14.5)\n",
      "\n",
      "\u001b[1m[\u001b[0m\u001b[34;49mnotice\u001b[0m\u001b[1;39;49m]\u001b[0m\u001b[39;49m A new release of pip is available: \u001b[0m\u001b[31;49m23.2.1\u001b[0m\u001b[39;49m -> \u001b[0m\u001b[32;49m23.3.1\u001b[0m\n",
      "\u001b[1m[\u001b[0m\u001b[34;49mnotice\u001b[0m\u001b[1;39;49m]\u001b[0m\u001b[39;49m To update, run: \u001b[0m\u001b[32;49mpip install --upgrade pip\u001b[0m\n"
     ]
    }
   ],
   "source": [
    "!pip install openai"
   ]
  },
  {
   "cell_type": "code",
   "execution_count": null,
   "id": "9dadd1c8-5347-4910-8291-8b516c070888",
   "metadata": {},
   "outputs": [],
   "source": [
    "    form2 = NewChat()\n",
    "    # we will do the json stuff here\n",
    "    if form1.validate_on_submit():\n",
    "        print(form1.message.data)\n",
    "        message = chat(conversation_to_show.message)\n",
    "        message.add_user_message(form1.message.data)\n",
    "        #add a new message to the current conversation\n",
    "        conversation_to_show.message = message.return_all_message()\n",
    "        conversation_to_show.modified_at = datetime.utcnow\n",
    "        \n",
    "        db.session.commit()\n",
    "        flash('Successfully sent message in')\n",
    "        return redirect(url_for('chatbot'))\n",
    "    if (form2.validate_on_submit()) or (conversation_to_show is None):\n",
    "        #create a new conversation#\n",
    "        message = chat('[]')\n",
    "        message.add_system_message()\n",
    "        message.get_response()\n",
    "        no_of_conversation = conversations_history_by_last_created.count()\n",
    "        conversation = Conversation(conversation_no = no_of_conversation,title=f'Untitled_{no_of_conversation+1}',message=str(message.return_all_message()),user=current_user)\n",
    "        db.session.add(conversation)\n",
    "        db.session.commit()\n",
    "        return redirect(url_for('chatbot'))"
   ]
  },
  {
   "cell_type": "code",
   "execution_count": 1,
   "id": "21880998-a43f-4365-bd33-128a58f4825d",
   "metadata": {
    "tags": []
   },
   "outputs": [],
   "source": [
    "from chat import chat"
   ]
  },
  {
   "cell_type": "code",
   "execution_count": 7,
   "id": "facb5c80-ec59-46a1-9e53-2946d32331b5",
   "metadata": {
    "tags": []
   },
   "outputs": [],
   "source": [
    "from datetime import datetime"
   ]
  },
  {
   "cell_type": "code",
   "execution_count": 9,
   "id": "8c76270f-d90f-4015-9a03-aa2fca1b447c",
   "metadata": {
    "tags": []
   },
   "outputs": [
    {
     "data": {
      "text/plain": [
       "datetime.datetime(2023, 12, 12, 4, 58, 42, 624289)"
      ]
     },
     "execution_count": 9,
     "metadata": {},
     "output_type": "execute_result"
    }
   ],
   "source": [
    "datetime.utcnow()"
   ]
  },
  {
   "cell_type": "code",
   "execution_count": 2,
   "id": "3ec938cd-56fc-459d-9acc-ef3507146c2f",
   "metadata": {
    "tags": []
   },
   "outputs": [
    {
     "data": {
      "text/plain": [
       "NoneType"
      ]
     },
     "execution_count": 2,
     "metadata": {},
     "output_type": "execute_result"
    }
   ],
   "source": [
    "a = '[]'\n",
    "b = chat(a)\n",
    "b.add_system_message()\n",
    "type(b.get_response())"
   ]
  },
  {
   "cell_type": "code",
   "execution_count": 3,
   "id": "1ec45e60-e742-4b3c-bd3f-ad92d9107842",
   "metadata": {
    "tags": []
   },
   "outputs": [],
   "source": [
    "z = 'My son broke his legs'\n",
    "b.add_user_message(z)\n",
    "b.get_response()"
   ]
  },
  {
   "cell_type": "code",
   "execution_count": 5,
   "id": "6fcae2f5-9f18-43cf-b285-0ba33b8b727c",
   "metadata": {
    "tags": []
   },
   "outputs": [
    {
     "data": {
      "text/plain": [
       "<chat.chat at 0x7fd825f76350>"
      ]
     },
     "execution_count": 5,
     "metadata": {},
     "output_type": "execute_result"
    }
   ],
   "source": [
    "chat(b.return_all_message())"
   ]
  },
  {
   "cell_type": "code",
   "execution_count": 1,
   "id": "6909b29c-b04d-4267-b740-1197def83fb9",
   "metadata": {
    "tags": []
   },
   "outputs": [
    {
     "ename": "IndentationError",
     "evalue": "unexpected indent (2070957677.py, line 2)",
     "output_type": "error",
     "traceback": [
      "\u001b[0;36m  Cell \u001b[0;32mIn[1], line 2\u001b[0;36m\u001b[0m\n\u001b[0;31m    bot = f\"\"\"\u001b[0m\n\u001b[0m    ^\u001b[0m\n\u001b[0;31mIndentationError\u001b[0m\u001b[0;31m:\u001b[0m unexpected indent\n"
     ]
    }
   ],
   "source": [
    "st.session_state.messages = []\n",
    "bot = f\"\"\"\n",
    "        You are First Aid Bot Bot, an automated service to help with medical emergency till professional help arrives.i want you to follow the steps below \\\n",
    "        Step 1 : You greet the user and ask for  the medical situation the user is experiencing \\\n",
    "        Step 2 : If you get a response to the user, check : is the response a medical situation ?,\n",
    "                 if yes,Then you say this - `Thank you for sharing that, the information has been sent to the nearest hospital requiring their assitant.\\\n",
    "                                             I'll provide you with guidance while we wait for professional assistance.Remember, your safety is our top priority.\\\n",
    "                                             Now, let's focus on getting you the first aid medical assistance you need - `.\\`\n",
    "                 if no, Then you say this - `We only assist with medical situation , we are sorry we can't assist you with that.`\n",
    "        Step 3 : Carefully, Start a First aid Measure the user will need to take in other to keep the Medical Situation from Escalating, ensure to take note of the following : \\\n",
    "                    a.) Ensure to tell them that they can always ask for further guidance from you if a particular First Aid Measure isn't understood by them .\\\n",
    "                    b.) Ensure You respond in a short, very conversational friendly style.\n",
    "                    c.) Ensure You return a first aid guidance according to the medical emergency in numerical order, add an entire line filled with asterisk after each number so as to ensure visibility.\n",
    "        Step 4 : During a point in your conversation, if a user ask for further guidance on what to do about a particular first a step, i want you to do the following below : \\\n",
    "                    i) Return a json file showing a keyword which is related to the particular first a step as a key and a list of values with word synonymous to the keyword.\n",
    "                 \n",
    "                if a child was mentioned, then you ask if the child is less than a year or more than a year. \\\n",
    "        You return a first aid guidance according to the medical emergency in numerical order, add an entire line filled with asterisk after each number so as to ensure visibility.\\\n",
    "         \\\n",
    "        if they ask for an explanation from your guidance, you can return a link to a youtube video by \\\n",
    "        checking the dictionary {video_url} that contain all youtube links with the keys being similar to what they asked for\\\n",
    "        You can pick from it with respect to the question they asked you.\\\n",
    "        If the given message does not contain a medical related situation simply return `non medical related condition`\n",
    "        \"\"\"\n",
    "        # Add user message to chat history\n",
    "        st.session_state.messages.append({\"role\": \"system\", \"content\": bot})\n",
    "        st.session_state.messages.append({\"role\": \"user\", \"content\": 'Hello'})\n",
    "        \n",
    "        "
   ]
  },
  {
   "cell_type": "code",
   "execution_count": 8,
   "id": "1d729261-f949-4218-aed0-868c5fda85d0",
   "metadata": {
    "tags": []
   },
   "outputs": [],
   "source": [
    "bot = \"\"\"\n",
    "        You are First Aid Bot Bot, an automated service to help with medical emergency till professional help arrives.i want you to follow the steps below \\\n",
    "        Step 1 : You greet the user and ask for  the medical situation the user is experiencing \\\n",
    "        Step 2 : If you get a response to the user, check : is the response a medical situation ?,\n",
    "                 if yes,Then you say this - `Thank you for sharing that, the information has been sent to the nearest hospital requiring their assitant.\\\n",
    "                                             I'll provide you with guidance while we wait for professional assistance.Remember, your safety is our top priority.\\\n",
    "                                             Now, let's focus on getting you the first aid medical assistance you need - `.\\`\n",
    "                 if no, Then you say this - `We only assist with medical situation , we are sorry we can't assist you with that.`\n",
    "        Step 3 : Carefully, Start a First aid Measure the user will need to take in other to keep the Medical Situation from Escalating, ensure to take note of the following : \\\n",
    "                    a.) Ensure to tell them that they can always ask for further guidance from you if a particular First Aid Measure isn't understood by them .\\\n",
    "                    b.) Ensure You respond in a short, very conversational friendly style.\n",
    "                    c.) Ensure You return a first aid guidance according to the medical emergency in numerical order, add an entire line filled with asterisk after each number so as to ensure visibility.\n",
    "                    d.) Ensure you send all the steps at a go so the user won't have to keep saying next.\n",
    "        Step 4 : During a point in your conversation, if a user ask for further guidance on what to do about a particular first a step, i want you to do the following below : \\\n",
    "                    i.) Ensure that your textual descriptions are clear, concise, and easy to understand. Use simple language and provide step-by-step instructions.\n",
    "                    ii.)Keep in mind that users may have different levels of medical knowledge and understanding.it's crucial to gauge user comprehension and offer additional clarification if needed.\"\"\""
   ]
  },
  {
   "cell_type": "code",
   "execution_count": 2,
   "id": "2bc3eeee-efe6-4e1c-a366-2db7bc1dcaf7",
   "metadata": {
    "tags": []
   },
   "outputs": [
    {
     "ename": "NameError",
     "evalue": "name 'st' is not defined",
     "output_type": "error",
     "traceback": [
      "\u001b[0;31m---------------------------------------------------------------------------\u001b[0m",
      "\u001b[0;31mNameError\u001b[0m                                 Traceback (most recent call last)",
      "Cell \u001b[0;32mIn[2], line 1\u001b[0m\n\u001b[0;32m----> 1\u001b[0m \u001b[38;5;28;01mwith\u001b[39;00m st\u001b[38;5;241m.\u001b[39mstatus(\u001b[38;5;124m\"\u001b[39m\u001b[38;5;124mloading Chatbot...\u001b[39m\u001b[38;5;124m\"\u001b[39m) \u001b[38;5;28;01mas\u001b[39;00m status:\n\u001b[1;32m      2\u001b[0m             \u001b[38;5;28;01mtry\u001b[39;00m:\n\u001b[1;32m      3\u001b[0m                 st\u001b[38;5;241m.\u001b[39msession_state\u001b[38;5;241m.\u001b[39mmessages\u001b[38;5;241m.\u001b[39mappend({\u001b[38;5;124m'\u001b[39m\u001b[38;5;124mrole\u001b[39m\u001b[38;5;124m'\u001b[39m:\u001b[38;5;124m'\u001b[39m\u001b[38;5;124massistant\u001b[39m\u001b[38;5;124m'\u001b[39m,\u001b[38;5;124m'\u001b[39m\u001b[38;5;124mcontent\u001b[39m\u001b[38;5;124m'\u001b[39m:get_completion_from_messages(st\u001b[38;5;241m.\u001b[39msession_state\u001b[38;5;241m.\u001b[39mmessages)})\n",
      "\u001b[0;31mNameError\u001b[0m: name 'st' is not defined"
     ]
    }
   ],
   "source": [
    "with st.status(\"loading Chatbot...\") as status:\n",
    "            try:\n",
    "                st.session_state.messages.append({'role':'assistant','content':get_completion_from_messages(st.session_state.messages)})\n",
    "                status.update(label=\"Loading complete!\", state=\"complete\", expanded=False)\n",
    "            except:\n",
    "                status.update(label=\"Error Loading chatbot\", state=\"error\", expanded=False)\n",
    "                st.stop()\n"
   ]
  },
  {
   "cell_type": "code",
   "execution_count": 4,
   "id": "a9731e3c-b095-4a22-8fb1-8f9d9f336f8d",
   "metadata": {
    "tags": []
   },
   "outputs": [
    {
     "ename": "IndentationError",
     "evalue": "unindent does not match any outer indentation level (<tokenize>, line 4)",
     "output_type": "error",
     "traceback": [
      "\u001b[0;36m  File \u001b[0;32m<tokenize>:4\u001b[0;36m\u001b[0m\n\u001b[0;31m    with st.chat_message(\"assistant\"):\u001b[0m\n\u001b[0m    ^\u001b[0m\n\u001b[0;31mIndentationError\u001b[0m\u001b[0;31m:\u001b[0m unindent does not match any outer indentation level\n"
     ]
    }
   ],
   "source": [
    "with st.chat_message(\"user\"):\n",
    "            st.markdown(prompt)\n",
    "            st.session_state.messages.append({\"role\": \"user\", \"content\": prompt})\n",
    "        with st.chat_message(\"assistant\"):\n",
    "            message_placeholder = st.empty()\n",
    "            full_response = \"\"\n",
    "            for response in openai.ChatCompletion.create(\n",
    "                    model=st.session_state[\"openai_model\"],\n",
    "                    messages=st.session_state.messages,\n",
    "                    temperature = 0.4,\n",
    "                    stream=True,\n",
    "                ):\n",
    "                    full_response += response.choices[0].delta.get(\"content\", \"\")\n",
    "                    message_placeholder.markdown(full_response + \"▌\")\n",
    "                    message_placeholder.markdown(full_response)\n",
    "        st.session_state.messages.append({\"role\": \"assistant\", \"content\": full_response})"
   ]
  },
  {
   "cell_type": "code",
   "execution_count": 5,
   "id": "fb38f23d-693c-497e-b80e-fede0b775a4a",
   "metadata": {
    "tags": []
   },
   "outputs": [
    {
     "ename": "NameError",
     "evalue": "name 'st' is not defined",
     "output_type": "error",
     "traceback": [
      "\u001b[0;31m---------------------------------------------------------------------------\u001b[0m",
      "\u001b[0;31mNameError\u001b[0m                                 Traceback (most recent call last)",
      "Cell \u001b[0;32mIn[5], line 1\u001b[0m\n\u001b[0;32m----> 1\u001b[0m \u001b[38;5;28;01mif\u001b[39;00m \u001b[38;5;124m\"\u001b[39m\u001b[38;5;124mopenai_model\u001b[39m\u001b[38;5;124m\"\u001b[39m \u001b[38;5;129;01mnot\u001b[39;00m \u001b[38;5;129;01min\u001b[39;00m st\u001b[38;5;241m.\u001b[39msession_state:\n\u001b[1;32m      2\u001b[0m         st\u001b[38;5;241m.\u001b[39msession_state[\u001b[38;5;124m\"\u001b[39m\u001b[38;5;124mopenai_model\u001b[39m\u001b[38;5;124m\"\u001b[39m] \u001b[38;5;241m=\u001b[39m \u001b[38;5;124m\"\u001b[39m\u001b[38;5;124mgpt-3.5-turbo\u001b[39m\u001b[38;5;124m\"\u001b[39m\n",
      "\u001b[0;31mNameError\u001b[0m: name 'st' is not defined"
     ]
    }
   ],
   "source": [
    "if \"openai_model\" not in st.session_state:\n",
    "        st.session_state[\"openai_model\"] = \"gpt-3.5-turbo\""
   ]
  },
  {
   "cell_type": "code",
   "execution_count": 6,
   "id": "b7389cf4-175c-489b-b933-a5aa47d29b02",
   "metadata": {
    "tags": []
   },
   "outputs": [],
   "source": [
    "def get_completion_from_messages(messages, model=\"gpt-3.5-turbo\", temperature=0):\n",
    "    response = openai.ChatCompletion.create(\n",
    "        model=model,\n",
    "        messages=messages,\n",
    "        temperature=temperature, # this is the degree of randomness of the model's output\n",
    "    )\n",
    "#     print(str(response.choices[0].message))\n",
    "    return response.choices[0].message[\"content\"]\n",
    "#@st.cache_data\n",
    "def get_response(text):\n",
    "    response = openai.ChatCompletion.create(\n",
    "      model=\"gpt-3.5-turbo\",\n",
    "      messages=[\n",
    "        {\n",
    "          \"role\": \"user\",\n",
    "          \"content\": f\"\"\"\n",
    "                    You will be given a medical situation message : {text}. \n",
    "                    return JSON format with the following key value pairs in back ticks\n",
    "                    \n",
    "                    \n",
    "                    `Situation`- `Emergency or Non-Emergency`\n",
    "                    `Age`-`Based on the age in the given information classify them as pediatric,adult,geriatric, if no age can be infered \\\n",
    "                            return Not Stated`\n",
    "                    `Gender` -  `From the medical situation message, kindly infer the gender if no gender can be infered \\\n",
    "                            return Not Stated``\n",
    "                    `Surgical Status` - `Preoperative or Post operative or any name for the Surgical Status if no status can be infered \\\n",
    "                            return Not Stated`` \n",
    "                    \n",
    "                    `Trauma Name`- `Using the message,Classify into one of the trauma categories.e.g Penetrating Trauma\n",
    "                    `Trauma Description` - `A very short description of the situation in less than 100 characters`\n",
    "                    `Physicians` - `= `Return a LIST of specially trained surgeons who are responsible for assessing, \\\n",
    "                                        managing, and performing surgery when necessary on patients who have sustained the stated traumatic injuries.\n",
    "                    `Symptoms`- `Using the message , kindly state out atleast 5 possible observable symptoms that are likely to be a result of the medical situation in a python list`\n",
    "                    - If the given message does not contain a medical related situation simply return `non medical related condition`\n",
    "                    \n",
    "                        \n",
    "                        \"\"\"\n",
    "        }\n",
    "      ],\n",
    "      temperature=1\n",
    "    )\n",
    "    return response['choices'][0]['message']['content']"
   ]
  },
  {
   "cell_type": "code",
   "execution_count": null,
   "id": "0d822bce-710f-4f7b-b314-88268076148b",
   "metadata": {},
   "outputs": [],
   "source": []
  }
 ],
 "metadata": {
  "kernelspec": {
   "display_name": "Python 3 (ipykernel)",
   "language": "python",
   "name": "python3"
  },
  "language_info": {
   "codemirror_mode": {
    "name": "ipython",
    "version": 3
   },
   "file_extension": ".py",
   "mimetype": "text/x-python",
   "name": "python",
   "nbconvert_exporter": "python",
   "pygments_lexer": "ipython3",
   "version": "3.11.5"
  }
 },
 "nbformat": 4,
 "nbformat_minor": 5
}
